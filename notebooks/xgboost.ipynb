{
 "cells": [
  {
   "cell_type": "code",
   "execution_count": 19,
   "metadata": {},
   "outputs": [],
   "source": [
    "# XGBooosts\n",
    "import  numpy as np\n",
    "import pandas as pd\n",
    "import mlflow\n",
    "from datetime import datetime\n",
    "import mlflow.xgboost\n",
    "from sklearn.metrics import classification_report\n",
    "from sklearn.multioutput import MultiOutputClassifier\n"
   ]
  },
  {
   "cell_type": "code",
   "execution_count": 5,
   "metadata": {},
   "outputs": [],
   "source": [
    "# get data shuffle and split into train and test\n",
    "\n",
    "data = pd.read_csv('../data/processed/asts.csv')\n",
    "data = data.fillna(0)\n",
    "\n",
    "# shuffle data\n",
    "data = data.sample(frac=1).reset_index(drop=True)"
   ]
  },
  {
   "cell_type": "code",
   "execution_count": 11,
   "metadata": {},
   "outputs": [
    {
     "name": "stdout",
     "output_type": "stream",
     "text": [
      "Accuracy: 0.982 (0.001)\n"
     ]
    }
   ],
   "source": [
    "import xgboost as xgb\n",
    "from sklearn.model_selection import train_test_split\n",
    "\n",
    "target_columns = [\n",
    "    \"resistance_phenotype_not defined\",                \n",
    "    \"resistance_phenotype_intermediate\",               \n",
    "    \"resistance_phenotype_nonsusceptible\",              \n",
    "    \"resistance_phenotype_resistant\",                   \n",
    "    \"resistance_phenotype_susceptible\",                 \n",
    "    \"resistance_phenotype_susceptible-dose dependent\" \n",
    "]\n",
    "\n",
    "# features the  rest of the columns\n",
    "features = data.columns.difference(target_columns)\n",
    "\n",
    "X = data[features]\n",
    "y = data[target_columns]\n",
    "\n",
    "\n",
    "# split data into train and test\n",
    "X_train, X_test, y_train, y_test = train_test_split(X, y, test_size=0.2, random_state=42)\n",
    "\n",
    "# Import additional required modules\n",
    "from sklearn.metrics import accuracy_score\n",
    "from sklearn.model_selection import KFold\n",
    "# Clean feature names\n",
    "def clean_feature_name(name):\n",
    "    \"\"\"Clean feature names to be compatible with XGBoost.\"\"\"\n",
    "    return str(name).replace('[', '_').replace(']', '_').replace('<', 'lt').replace('>', 'gt').replace('(', '_').replace(')', '_')\n",
    "\n",
    "# Clean column names in X_train and X_test\n",
    "X_train.columns = [clean_feature_name(col) for col in X_train.columns]\n",
    "X_test.columns = [clean_feature_name(col) for col in X_test.columns]\n",
    "\n",
    "# Create a multi-output classifier wrapper around XGBoost with specific parameters\n",
    "model = MultiOutputClassifier(xgb.XGBClassifier(\n",
    "    objective='binary:logistic',\n",
    "    n_estimators=100,\n",
    "    max_depth=6,\n",
    "    learning_rate=0.1,\n",
    "    random_state=42\n",
    "))\n",
    "\n",
    "# Use regular KFold instead of StratifiedKFold for multi-label\n",
    "cv = KFold(n_splits=10, random_state=42, shuffle=True)\n",
    "\n",
    "# Manual cross-validation for multi-label\n",
    "scores = []\n",
    "for train_idx, val_idx in cv.split(X_train):\n",
    "    # Split data\n",
    "    X_train_fold, X_val_fold = X_train.iloc[train_idx], X_train.iloc[val_idx]\n",
    "    y_train_fold, y_val_fold = y_train.iloc[train_idx], y_train.iloc[val_idx]\n",
    "    \n",
    "    # Train and predict\n",
    "    model.fit(X_train_fold, y_train_fold)\n",
    "    y_pred = model.predict(X_val_fold)\n",
    "    \n",
    "    # Calculate accuracy\n",
    "    fold_accuracy = accuracy_score(y_val_fold, y_pred)\n",
    "    scores.append(fold_accuracy)\n",
    "\n",
    "# Report performance\n",
    "print('Accuracy: %.3f (%.3f)' % (np.mean(scores), np.std(scores)))"
   ]
  },
  {
   "cell_type": "code",
   "execution_count": null,
   "metadata": {},
   "outputs": [],
   "source": []
  }
 ],
 "metadata": {
  "kernelspec": {
   "display_name": "Python 3",
   "language": "python",
   "name": "python3"
  },
  "language_info": {
   "codemirror_mode": {
    "name": "ipython",
    "version": 3
   },
   "file_extension": ".py",
   "mimetype": "text/x-python",
   "name": "python",
   "nbconvert_exporter": "python",
   "pygments_lexer": "ipython3",
   "version": "3.13.2"
  }
 },
 "nbformat": 4,
 "nbformat_minor": 4
}
