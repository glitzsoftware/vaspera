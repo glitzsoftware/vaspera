{
 "cells": [
  {
   "cell_type": "code",
   "execution_count": 1,
   "metadata": {},
   "outputs": [],
   "source": [
    "## Data Analysis of pre-processed data"
   ]
  },
  {
   "cell_type": "code",
   "execution_count": 2,
   "metadata": {},
   "outputs": [],
   "source": [
    "\n",
    "import sys\n",
    "import os\n",
    "sys.path.append(os.path.abspath(os.path.join(os.getcwd(), '..')))\n",
    "from src.utils import encoders"
   ]
  },
  {
   "cell_type": "code",
   "execution_count": 3,
   "metadata": {},
   "outputs": [],
   "source": [
    "import pandas as pd\n",
    "import numpy as np\n",
    "import matplotlib.pyplot as plt\n",
    "import seaborn as sns\n",
    "import csv"
   ]
  },
  {
   "cell_type": "code",
   "execution_count": 4,
   "metadata": {},
   "outputs": [
    {
     "name": "stdout",
     "output_type": "stream",
     "text": [
      "        Organism group                                    Scientific name  \\\n",
      "0  Salmonella enterica  Salmonella enterica subsp. enterica serovar 4,...   \n",
      "1  Salmonella enterica  Salmonella enterica subsp. enterica serovar Ke...   \n",
      "2  Salmonella enterica  Salmonella enterica subsp. enterica serovar Ke...   \n",
      "3  Salmonella enterica  Salmonella enterica subsp. enterica serovar Hadar   \n",
      "4  Salmonella enterica                Salmonella enterica subsp. enterica   \n",
      "\n",
      "        Isolation type Location Isolation source         Isolate Antibiotic  \\\n",
      "0  environmental/other      USA   chicken breast  PDT000003687.3   amikacin   \n",
      "1  environmental/other      USA   chicken breast  PDT000003688.4   amikacin   \n",
      "2  environmental/other      USA   chicken breast  PDT000003689.4   amikacin   \n",
      "3  environmental/other      USA   chicken breast  PDT000003690.3   amikacin   \n",
      "4  environmental/other      USA        pork chop  PDT000003691.3   amikacin   \n",
      "\n",
      "  Resistance phenotype Measurement sign  MIC (mg/L)  Disk diffusion (mm)  \\\n",
      "0          susceptible               ==         1.0                  NaN   \n",
      "1          susceptible               ==         2.0                  NaN   \n",
      "2          susceptible               ==         4.0                  NaN   \n",
      "3          susceptible               ==         1.0                  NaN   \n",
      "4          susceptible               ==         1.0                  NaN   \n",
      "\n",
      "  Laboratory typing platform Vendor  \\\n",
      "0                        NaN    NaN   \n",
      "1                        NaN    NaN   \n",
      "2                        NaN    NaN   \n",
      "3                        NaN    NaN   \n",
      "4                        NaN    NaN   \n",
      "\n",
      "  Laboratory typing method version or reagent Testing standard  \\\n",
      "0                                         NaN             CLSI   \n",
      "1                                         NaN             CLSI   \n",
      "2                                         NaN             CLSI   \n",
      "3                                         NaN             CLSI   \n",
      "4                                         NaN             CLSI   \n",
      "\n",
      "            Create date  \n",
      "0  2015-02-11T08:09:23Z  \n",
      "1  2015-02-10T22:08:35Z  \n",
      "2  2015-02-10T22:08:35Z  \n",
      "3  2015-02-10T22:08:35Z  \n",
      "4  2015-02-10T22:08:35Z  \n"
     ]
    }
   ],
   "source": [
    "data = pd.read_csv(f\"../data/raw/asts.csv\", on_bad_lines='skip')\n",
    "data.drop('BioSample', axis=1, inplace=True)\n",
    "print(data.head())"
   ]
  },
  {
   "cell_type": "code",
   "execution_count": 5,
   "metadata": {},
   "outputs": [
    {
     "name": "stdout",
     "output_type": "stream",
     "text": [
      "<class 'pandas.core.frame.DataFrame'>\n",
      "RangeIndex: 457155 entries, 0 to 457154\n",
      "Data columns (total 16 columns):\n",
      " #   Column                                       Non-Null Count   Dtype  \n",
      "---  ------                                       --------------   -----  \n",
      " 0   organism_group                               457155 non-null  object \n",
      " 1   scientific_name                              457155 non-null  object \n",
      " 2   isolation_type                               455418 non-null  object \n",
      " 3   location                                     436152 non-null  object \n",
      " 4   isolation_source                             428448 non-null  object \n",
      " 5   isolate                                      457155 non-null  object \n",
      " 6   antibiotic                                   457155 non-null  object \n",
      " 7   resistance_phenotype                         457155 non-null  object \n",
      " 8   measurement_sign                             451768 non-null  object \n",
      " 9   mic_(mg_l)                                   447153 non-null  float64\n",
      " 10  disk_diffusion_(mm)                          4615 non-null    float64\n",
      " 11  laboratory_typing_platform                   316726 non-null  object \n",
      " 12  vendor                                       292697 non-null  object \n",
      " 13  laboratory_typing_method_version_or_reagent  256701 non-null  object \n",
      " 14  testing_standard                             445735 non-null  object \n",
      " 15  create_date                                  457155 non-null  object \n",
      "dtypes: float64(2), object(14)\n",
      "memory usage: 55.8+ MB\n",
      "None\n"
     ]
    }
   ],
   "source": [
    "# convert all columns to lowercase and replace spaces and '/' with underscores \n",
    "data.columns = map(str.lower, data.columns)\n",
    "data.columns = data.columns.str.replace(' ', '_').str.replace('/', '_')\n",
    "print(data.info())"
   ]
  },
  {
   "cell_type": "code",
   "execution_count": 6,
   "metadata": {},
   "outputs": [
    {
     "name": "stdout",
     "output_type": "stream",
     "text": [
      "isolate                                        32605\n",
      "create_date                                    13976\n",
      "isolation_source                                1116\n",
      "scientific_name                                  429\n",
      "location                                         338\n",
      "antibiotic                                       138\n",
      "organism_group                                    44\n",
      "laboratory_typing_method_version_or_reagent       23\n",
      "laboratory_typing_platform                        19\n",
      "vendor                                            14\n",
      "resistance_phenotype                               6\n",
      "measurement_sign                                   6\n",
      "testing_standard                                   5\n",
      "isolation_type                                     2\n",
      "dtype: int64\n"
     ]
    }
   ],
   "source": [
    "# analyse how all data looks like\n",
    "# Identify categorical columns\n",
    "categorical_cols = data.select_dtypes(include=[\"object\"]).columns\n",
    "\n",
    "# Count unique values in each categorical column\n",
    "unique_counts = data[categorical_cols].nunique().sort_values(ascending=False)\n",
    "\n",
    "print(unique_counts)"
   ]
  },
  {
   "cell_type": "markdown",
   "metadata": {},
   "source": [
    "## Data Encoding\n",
    "\n",
    "| Column Name                                      | Unique Values | Encoding Recommendation |\n",
    "|-------------------------------------------------|--------------|-------------------------|\n",
    "| **`isolate`**                                   | 32,605       | **Drop / Frequency Encoding** (Likely an ID, so might not be useful) |\n",
    "| **`create_date`**                               | 13,976       | **Drop or Convert to Date Features** (Extract year, month, etc.) |\n",
    "| **`isolation_source`**                          | 1,116        | **Label Encoding / Target Encoding** |\n",
    "| **`scientific_name`**                           | 429          | **Label Encoding / Target Encoding** |\n",
    "| **`location`**                                  | 338          | **Label Encoding / Frequency Encoding** |\n",
    "| **`antibiotic`**                                | 138          | **Label Encoding / Target Encoding** |\n",
    "| **`organism_group`**                            | 44           | **One-Hot Encoding / Label Encoding** |\n",
    "| **`laboratory_typing_method_version_or_reagent`** | 23           | **One-Hot Encoding / Label Encoding** |\n",
    "| **`laboratory_typing_platform`**                | 19           | **One-Hot Encoding / Label Encoding** |\n",
    "| **`vendor`**                                    | 14           | **One-Hot Encoding / Label Encoding** |\n",
    "| **`resistance_phenotype`**                      | 6            | **One-Hot Encoding** |\n",
    "| **`measurement_sign`**                          | 6            | **One-Hot Encoding** |\n",
    "| **`testing_standard`**                          | 5            | **One-Hot Encoding** |\n",
    "| **`isolation_type`**                            | 2            | **One-Hot Encoding** |\n"
   ]
  },
  {
   "cell_type": "code",
   "execution_count": 7,
   "metadata": {},
   "outputs": [],
   "source": [
    "# drop un important columns\n",
    "data.drop(['isolate'], axis=1, inplace=True)"
   ]
  },
  {
   "cell_type": "code",
   "execution_count": 8,
   "metadata": {},
   "outputs": [
    {
     "name": "stdout",
     "output_type": "stream",
     "text": [
      "organism_group                                      0\n",
      "scientific_name                                     0\n",
      "isolation_type                                   1737\n",
      "location                                        21003\n",
      "isolation_source                                28707\n",
      "antibiotic                                          0\n",
      "resistance_phenotype                                0\n",
      "measurement_sign                                 5387\n",
      "mic_(mg_l)                                      10002\n",
      "disk_diffusion_(mm)                            452540\n",
      "laboratory_typing_platform                     140429\n",
      "vendor                                         164458\n",
      "laboratory_typing_method_version_or_reagent    200454\n",
      "testing_standard                                11420\n",
      "create_date                                         0\n",
      "dtype: int64\n"
     ]
    }
   ],
   "source": [
    "# make every empty cell 0\n",
    "# data = data.fillna(0)\n",
    "print(data.isnull().sum())"
   ]
  },
  {
   "cell_type": "code",
   "execution_count": 9,
   "metadata": {},
   "outputs": [
    {
     "name": "stdout",
     "output_type": "stream",
     "text": [
      "        organism_group                                    scientific_name  \\\n",
      "0  Salmonella enterica  Salmonella enterica subsp. enterica serovar 4,...   \n",
      "1  Salmonella enterica  Salmonella enterica subsp. enterica serovar Ke...   \n",
      "2  Salmonella enterica  Salmonella enterica subsp. enterica serovar Ke...   \n",
      "3  Salmonella enterica  Salmonella enterica subsp. enterica serovar Hadar   \n",
      "4  Salmonella enterica                Salmonella enterica subsp. enterica   \n",
      "\n",
      "        isolation_type location isolation_source antibiotic  \\\n",
      "0  environmental/other      USA   chicken breast   amikacin   \n",
      "1  environmental/other      USA   chicken breast   amikacin   \n",
      "2  environmental/other      USA   chicken breast   amikacin   \n",
      "3  environmental/other      USA   chicken breast   amikacin   \n",
      "4  environmental/other      USA        pork chop   amikacin   \n",
      "\n",
      "  resistance_phenotype measurement_sign  mic_(mg_l)  disk_diffusion_(mm)  \\\n",
      "0          susceptible               ==         1.0                  NaN   \n",
      "1          susceptible               ==         2.0                  NaN   \n",
      "2          susceptible               ==         4.0                  NaN   \n",
      "3          susceptible               ==         1.0                  NaN   \n",
      "4          susceptible               ==         1.0                  NaN   \n",
      "\n",
      "  laboratory_typing_platform vendor  \\\n",
      "0                        NaN    NaN   \n",
      "1                        NaN    NaN   \n",
      "2                        NaN    NaN   \n",
      "3                        NaN    NaN   \n",
      "4                        NaN    NaN   \n",
      "\n",
      "  laboratory_typing_method_version_or_reagent testing_standard  \\\n",
      "0                                         NaN             CLSI   \n",
      "1                                         NaN             CLSI   \n",
      "2                                         NaN             CLSI   \n",
      "3                                         NaN             CLSI   \n",
      "4                                         NaN             CLSI   \n",
      "\n",
      "            create_date  isolation_type_clinical  \\\n",
      "0  2015-02-11T08:09:23Z                        0   \n",
      "1  2015-02-10T22:08:35Z                        0   \n",
      "2  2015-02-10T22:08:35Z                        0   \n",
      "3  2015-02-10T22:08:35Z                        0   \n",
      "4  2015-02-10T22:08:35Z                        0   \n",
      "\n",
      "   isolation_type_environmental/other  \n",
      "0                                   1  \n",
      "1                                   1  \n",
      "2                                   1  \n",
      "3                                   1  \n",
      "4                                   1  \n"
     ]
    }
   ],
   "source": [
    "# converting values to encoders variables \n",
    "cat_enc = encoders.CategoricalEncoders()\n",
    "\n",
    "isolation_type_encoded = cat_enc.one_hot_encode(data['isolation_type'])\n",
    "data = pd.concat([data, isolation_type_encoded], axis=1)\n",
    "\n",
    "print(data.head())"
   ]
  },
  {
   "cell_type": "code",
   "execution_count": 10,
   "metadata": {},
   "outputs": [],
   "source": [
    "data.drop(['isolation_type'], axis=1, inplace=True)"
   ]
  },
  {
   "cell_type": "code",
   "execution_count": 11,
   "metadata": {},
   "outputs": [],
   "source": [
    "#  **`antibiotic`**                                | 138          | **Label Encoding / Target Encoding** |\n",
    "# | **`organism_group`**                            | 44           | **One-Hot Encoding / Label Encoding** |\n",
    "# | **`laboratory_typing_method_version_or_reagent`** | 23           | **One-Hot Encoding / Label Encoding** |\n",
    "# | **`laboratory_typing_platform`**                | 19           | **One-Hot Encoding / Label Encoding** |\n",
    "# | **`vendor`**                                    | 14           | **One-Hot Encoding / Label Encoding** |\n",
    "resistance_phenotype = cat_enc.one_hot_encode(data['resistance_phenotype'])\n",
    "measurement_sign = cat_enc.one_hot_encode(data['measurement_sign'])\n",
    "testing_standard  = cat_enc.one_hot_encode(data['testing_standard'])"
   ]
  },
  {
   "cell_type": "code",
   "execution_count": 12,
   "metadata": {},
   "outputs": [],
   "source": [
    "data = pd.concat([data, resistance_phenotype, measurement_sign, testing_standard], axis=1)"
   ]
  },
  {
   "cell_type": "code",
   "execution_count": 13,
   "metadata": {},
   "outputs": [],
   "source": [
    "target_phenotypes = data['resistance_phenotype']\n",
    "\n",
    "data.drop(['resistance_phenotype', 'measurement_sign', 'testing_standard'], axis=1, inplace=True)"
   ]
  },
  {
   "cell_type": "code",
   "execution_count": 14,
   "metadata": {},
   "outputs": [
    {
     "name": "stdout",
     "output_type": "stream",
     "text": [
      "<class 'pandas.core.frame.DataFrame'>\n",
      "RangeIndex: 457155 entries, 0 to 457154\n",
      "Data columns (total 30 columns):\n",
      " #   Column                                           Non-Null Count   Dtype  \n",
      "---  ------                                           --------------   -----  \n",
      " 0   organism_group                                   457155 non-null  object \n",
      " 1   scientific_name                                  457155 non-null  object \n",
      " 2   location                                         436152 non-null  object \n",
      " 3   isolation_source                                 428448 non-null  object \n",
      " 4   antibiotic                                       457155 non-null  object \n",
      " 5   mic_(mg_l)                                       447153 non-null  float64\n",
      " 6   disk_diffusion_(mm)                              4615 non-null    float64\n",
      " 7   laboratory_typing_platform                       316726 non-null  object \n",
      " 8   vendor                                           292697 non-null  object \n",
      " 9   laboratory_typing_method_version_or_reagent      256701 non-null  object \n",
      " 10  create_date                                      457155 non-null  object \n",
      " 11  isolation_type_clinical                          457155 non-null  int64  \n",
      " 12  isolation_type_environmental/other               457155 non-null  int64  \n",
      " 13  resistance_phenotype_intermediate                457155 non-null  int64  \n",
      " 14  resistance_phenotype_nonsusceptible              457155 non-null  int64  \n",
      " 15  resistance_phenotype_not defined                 457155 non-null  int64  \n",
      " 16  resistance_phenotype_resistant                   457155 non-null  int64  \n",
      " 17  resistance_phenotype_susceptible                 457155 non-null  int64  \n",
      " 18  resistance_phenotype_susceptible-dose dependent  457155 non-null  int64  \n",
      " 19  measurement_sign_<                               457155 non-null  int64  \n",
      " 20  measurement_sign_<=                              457155 non-null  int64  \n",
      " 21  measurement_sign_=                               457155 non-null  int64  \n",
      " 22  measurement_sign_==                              457155 non-null  int64  \n",
      " 23  measurement_sign_>                               457155 non-null  int64  \n",
      " 24  measurement_sign_>=                              457155 non-null  int64  \n",
      " 25  testing_standard_CLSI                            457155 non-null  int64  \n",
      " 26  testing_standard_EUCAST                          457155 non-null  int64  \n",
      " 27  testing_standard_NARMS                           457155 non-null  int64  \n",
      " 28  testing_standard_NCCLS                           457155 non-null  int64  \n",
      " 29  testing_standard_SFM                             457155 non-null  int64  \n",
      "dtypes: float64(2), int64(19), object(9)\n",
      "memory usage: 104.6+ MB\n",
      "None\n"
     ]
    }
   ],
   "source": [
    "print(data.info())"
   ]
  },
  {
   "cell_type": "code",
   "execution_count": 15,
   "metadata": {},
   "outputs": [
    {
     "name": "stdout",
     "output_type": "stream",
     "text": [
      "['Acinetobacter baumannii' 'Aeromonas salmonicida' 'Bacillus cereus group'\n",
      " 'Burkholderia cepacia complex' 'Campylobacter jejuni' 'Candidozyma auris'\n",
      " 'Citrobacter freundii' 'Clostridioides difficile'\n",
      " 'Corynebacterium striatum' 'Cronobacter' 'E.coli and Shigella'\n",
      " 'Enterobacter asburiae' 'Enterobacter bugandensis' 'Enterobacter cloacae'\n",
      " 'Enterobacter hormaechei' 'Enterobacter kobei' 'Enterobacter ludwigii'\n",
      " 'Enterobacter mori' 'Enterobacter roggenkampii' 'Enterococcus faecalis'\n",
      " 'Enterococcus faecium' 'Klebsiella oxytoca' 'Klebsiella pneumoniae'\n",
      " 'Kluyvera_intermedia' 'Listeria monocytogenes' 'Morganella morganii'\n",
      " 'Mycobacterium tuberculosis' 'Neisseria gonorrhoeae'\n",
      " 'Neisseria meningitidis' 'Pasteurella multocida'\n",
      " 'Pluralibacter gergoviae' 'Providencia alcalifaciens'\n",
      " 'Pseudomonas aeruginosa' 'Pseudomonas putida' 'Salmonella enterica'\n",
      " 'Serratia marcescens' 'Staphylococcus aureus'\n",
      " 'Staphylococcus pseudintermedius' 'Stenotrophomonas maltophilia'\n",
      " 'Streptococcus agalactiae' 'Streptococcus pneumoniae' 'Vibrio cholerae'\n",
      " 'Vibrio metschnikovii' 'Vibrio parahaemolyticus']  :  organism_group\n",
      "[ 0  1  2  3  4  5  6  7  8  9 10 11 12 13 14 15 16 17 18 19 20 21 22 23\n",
      " 24 25 26 27 28 29 30 31 32 33 34 35 36 37 38 39 40 41 42 43]  :  laboratory_typing_method_version_or_reagent\n",
      "[ 0  1  2  3  4  5  6  7  8  9 10 11 12 13 14 15 16 17 18 19 20 21 22 23\n",
      " 24 25 26 27 28 29 30 31 32 33 34 35 36 37 38 39 40 41 42 43]  :  laboratory_typing_platform\n",
      "[ 0  1  2  3  4  5  6  7  8  9 10 11 12 13 14 15 16 17 18 19 20 21 22 23\n",
      " 24 25 26 27 28 29 30 31 32 33 34 35 36 37 38 39 40 41 42 43]  :  vendor\n"
     ]
    }
   ],
   "source": [
    "# print (data.columns)\n",
    "\n",
    "label_encoded_headings = [\"organism_group\",\"laboratory_typing_method_version_or_reagent\",\"laboratory_typing_platform\",\"vendor\"]\n",
    "\n",
    "for heading in label_encoded_headings:\n",
    "    encoded, encoder = cat_enc.label_encode(data['organism_group'])\n",
    "    print(encoder.classes_, \" : \", heading)\n",
    "    data[heading] = encoded"
   ]
  },
  {
   "cell_type": "code",
   "execution_count": 16,
   "metadata": {},
   "outputs": [
    {
     "name": "stdout",
     "output_type": "stream",
     "text": [
      "<class 'pandas.core.frame.DataFrame'>\n",
      "RangeIndex: 457155 entries, 0 to 457154\n",
      "Data columns (total 30 columns):\n",
      " #   Column                                           Non-Null Count   Dtype  \n",
      "---  ------                                           --------------   -----  \n",
      " 0   organism_group                                   457155 non-null  int64  \n",
      " 1   scientific_name                                  457155 non-null  object \n",
      " 2   location                                         436152 non-null  object \n",
      " 3   isolation_source                                 428448 non-null  object \n",
      " 4   antibiotic                                       457155 non-null  object \n",
      " 5   mic_(mg_l)                                       447153 non-null  float64\n",
      " 6   disk_diffusion_(mm)                              4615 non-null    float64\n",
      " 7   laboratory_typing_platform                       457155 non-null  int64  \n",
      " 8   vendor                                           457155 non-null  int64  \n",
      " 9   laboratory_typing_method_version_or_reagent      457155 non-null  int64  \n",
      " 10  create_date                                      457155 non-null  object \n",
      " 11  isolation_type_clinical                          457155 non-null  int64  \n",
      " 12  isolation_type_environmental/other               457155 non-null  int64  \n",
      " 13  resistance_phenotype_intermediate                457155 non-null  int64  \n",
      " 14  resistance_phenotype_nonsusceptible              457155 non-null  int64  \n",
      " 15  resistance_phenotype_not defined                 457155 non-null  int64  \n",
      " 16  resistance_phenotype_resistant                   457155 non-null  int64  \n",
      " 17  resistance_phenotype_susceptible                 457155 non-null  int64  \n",
      " 18  resistance_phenotype_susceptible-dose dependent  457155 non-null  int64  \n",
      " 19  measurement_sign_<                               457155 non-null  int64  \n",
      " 20  measurement_sign_<=                              457155 non-null  int64  \n",
      " 21  measurement_sign_=                               457155 non-null  int64  \n",
      " 22  measurement_sign_==                              457155 non-null  int64  \n",
      " 23  measurement_sign_>                               457155 non-null  int64  \n",
      " 24  measurement_sign_>=                              457155 non-null  int64  \n",
      " 25  testing_standard_CLSI                            457155 non-null  int64  \n",
      " 26  testing_standard_EUCAST                          457155 non-null  int64  \n",
      " 27  testing_standard_NARMS                           457155 non-null  int64  \n",
      " 28  testing_standard_NCCLS                           457155 non-null  int64  \n",
      " 29  testing_standard_SFM                             457155 non-null  int64  \n",
      "dtypes: float64(2), int64(23), object(5)\n",
      "memory usage: 104.6+ MB\n",
      "None\n"
     ]
    }
   ],
   "source": [
    "print(data.info())"
   ]
  },
  {
   "cell_type": "code",
   "execution_count": 17,
   "metadata": {},
   "outputs": [],
   "source": [
    "data.drop(\"create_date\", axis=1, inplace=True)"
   ]
  },
  {
   "cell_type": "code",
   "execution_count": 18,
   "metadata": {},
   "outputs": [
    {
     "name": "stdout",
     "output_type": "stream",
     "text": [
      "<class 'pandas.core.frame.DataFrame'>\n",
      "RangeIndex: 457155 entries, 0 to 457154\n",
      "Data columns (total 29 columns):\n",
      " #   Column                                           Non-Null Count   Dtype  \n",
      "---  ------                                           --------------   -----  \n",
      " 0   organism_group                                   457155 non-null  int64  \n",
      " 1   scientific_name                                  457155 non-null  object \n",
      " 2   location                                         436152 non-null  object \n",
      " 3   isolation_source                                 428448 non-null  object \n",
      " 4   antibiotic                                       457155 non-null  object \n",
      " 5   mic_(mg_l)                                       447153 non-null  float64\n",
      " 6   disk_diffusion_(mm)                              4615 non-null    float64\n",
      " 7   laboratory_typing_platform                       457155 non-null  int64  \n",
      " 8   vendor                                           457155 non-null  int64  \n",
      " 9   laboratory_typing_method_version_or_reagent      457155 non-null  int64  \n",
      " 10  isolation_type_clinical                          457155 non-null  int64  \n",
      " 11  isolation_type_environmental/other               457155 non-null  int64  \n",
      " 12  resistance_phenotype_intermediate                457155 non-null  int64  \n",
      " 13  resistance_phenotype_nonsusceptible              457155 non-null  int64  \n",
      " 14  resistance_phenotype_not defined                 457155 non-null  int64  \n",
      " 15  resistance_phenotype_resistant                   457155 non-null  int64  \n",
      " 16  resistance_phenotype_susceptible                 457155 non-null  int64  \n",
      " 17  resistance_phenotype_susceptible-dose dependent  457155 non-null  int64  \n",
      " 18  measurement_sign_<                               457155 non-null  int64  \n",
      " 19  measurement_sign_<=                              457155 non-null  int64  \n",
      " 20  measurement_sign_=                               457155 non-null  int64  \n",
      " 21  measurement_sign_==                              457155 non-null  int64  \n",
      " 22  measurement_sign_>                               457155 non-null  int64  \n",
      " 23  measurement_sign_>=                              457155 non-null  int64  \n",
      " 24  testing_standard_CLSI                            457155 non-null  int64  \n",
      " 25  testing_standard_EUCAST                          457155 non-null  int64  \n",
      " 26  testing_standard_NARMS                           457155 non-null  int64  \n",
      " 27  testing_standard_NCCLS                           457155 non-null  int64  \n",
      " 28  testing_standard_SFM                             457155 non-null  int64  \n",
      "dtypes: float64(2), int64(23), object(4)\n",
      "memory usage: 101.1+ MB\n",
      "None\n"
     ]
    }
   ],
   "source": [
    "print(data.info())"
   ]
  },
  {
   "cell_type": "code",
   "execution_count": 22,
   "metadata": {},
   "outputs": [],
   "source": [
    "resistance_target_encoded =  data[[\n",
    "    'resistance_phenotype_intermediate',\n",
    "    'resistance_phenotype_nonsusceptible',\n",
    "    'resistance_phenotype_not defined',\n",
    "    'resistance_phenotype_resistant',\n",
    "    'resistance_phenotype_susceptible',\n",
    "    'resistance_phenotype_susceptible-dose dependent'\n",
    "]].copy()\n",
    "\n",
    "encoded_scientific_name, encoder_scientific_name_dictionary = cat_enc.target_encode(\n",
    "    data['scientific_name'], resistance_target_encoded)\n",
    "\n",
    "encoded_isolation_source, encoder_isolation_source_dictionary = cat_enc.target_encode(\n",
    "    data['isolation_source'], resistance_target_encoded)\n",
    "\n",
    "encoded_location, encoder_location_dictionary = cat_enc.frequency_encode(data['location'])\n",
    "\n",
    "encoded_antibiotic, encoder_antibiotic_dictionary = cat_enc.target_encode(data['antibiotic'], resistance_target_encoded)\n"
   ]
  },
  {
   "cell_type": "code",
   "execution_count": 23,
   "metadata": {},
   "outputs": [],
   "source": [
    "# append the encoded columns to the data\n",
    "data = pd.concat([data, encoded_scientific_name, encoded_isolation_source, encoded_location, encoded_antibiotic], axis=1)"
   ]
  },
  {
   "cell_type": "code",
   "execution_count": 24,
   "metadata": {},
   "outputs": [],
   "source": [
    "# drop the original columns\n",
    "data.drop(['scientific_name', 'isolation_source', 'location', 'antibiotic'], axis=1, inplace=True)"
   ]
  },
  {
   "cell_type": "code",
   "execution_count": 26,
   "metadata": {},
   "outputs": [
    {
     "name": "stdout",
     "output_type": "stream",
     "text": [
      "<class 'pandas.core.frame.DataFrame'>\n",
      "RangeIndex: 457155 entries, 0 to 457154\n",
      "Data columns (total 43 columns):\n",
      " #   Column                                                               Non-Null Count   Dtype  \n",
      "---  ------                                                               --------------   -----  \n",
      " 0   organism_group                                                       457155 non-null  int64  \n",
      " 1   mic_(mg_l)                                                           447153 non-null  float64\n",
      " 2   disk_diffusion_(mm)                                                  4615 non-null    float64\n",
      " 3   laboratory_typing_platform                                           457155 non-null  int64  \n",
      " 4   vendor                                                               457155 non-null  int64  \n",
      " 5   laboratory_typing_method_version_or_reagent                          457155 non-null  int64  \n",
      " 6   isolation_type_clinical                                              457155 non-null  int64  \n",
      " 7   isolation_type_environmental/other                                   457155 non-null  int64  \n",
      " 8   resistance_phenotype_intermediate                                    457155 non-null  int64  \n",
      " 9   resistance_phenotype_nonsusceptible                                  457155 non-null  int64  \n",
      " 10  resistance_phenotype_not defined                                     457155 non-null  int64  \n",
      " 11  resistance_phenotype_resistant                                       457155 non-null  int64  \n",
      " 12  resistance_phenotype_susceptible                                     457155 non-null  int64  \n",
      " 13  resistance_phenotype_susceptible-dose dependent                      457155 non-null  int64  \n",
      " 14  measurement_sign_<                                                   457155 non-null  int64  \n",
      " 15  measurement_sign_<=                                                  457155 non-null  int64  \n",
      " 16  measurement_sign_=                                                   457155 non-null  int64  \n",
      " 17  measurement_sign_==                                                  457155 non-null  int64  \n",
      " 18  measurement_sign_>                                                   457155 non-null  int64  \n",
      " 19  measurement_sign_>=                                                  457155 non-null  int64  \n",
      " 20  testing_standard_CLSI                                                457155 non-null  int64  \n",
      " 21  testing_standard_EUCAST                                              457155 non-null  int64  \n",
      " 22  testing_standard_NARMS                                               457155 non-null  int64  \n",
      " 23  testing_standard_NCCLS                                               457155 non-null  int64  \n",
      " 24  testing_standard_SFM                                                 457155 non-null  int64  \n",
      " 25  scientific_name_te_resistance_phenotype_intermediate                 457155 non-null  float64\n",
      " 26  scientific_name_te_resistance_phenotype_nonsusceptible               457155 non-null  float64\n",
      " 27  scientific_name_te_resistance_phenotype_not defined                  457155 non-null  float64\n",
      " 28  scientific_name_te_resistance_phenotype_resistant                    457155 non-null  float64\n",
      " 29  scientific_name_te_resistance_phenotype_susceptible                  457155 non-null  float64\n",
      " 30  scientific_name_te_resistance_phenotype_susceptible-dose dependent   457155 non-null  float64\n",
      " 31  isolation_source_te_resistance_phenotype_intermediate                428448 non-null  float64\n",
      " 32  isolation_source_te_resistance_phenotype_nonsusceptible              428448 non-null  float64\n",
      " 33  isolation_source_te_resistance_phenotype_not defined                 428448 non-null  float64\n",
      " 34  isolation_source_te_resistance_phenotype_resistant                   428448 non-null  float64\n",
      " 35  isolation_source_te_resistance_phenotype_susceptible                 428448 non-null  float64\n",
      " 36  isolation_source_te_resistance_phenotype_susceptible-dose dependent  428448 non-null  float64\n",
      " 37  antibiotic_te_resistance_phenotype_intermediate                      457155 non-null  float64\n",
      " 38  antibiotic_te_resistance_phenotype_nonsusceptible                    457155 non-null  float64\n",
      " 39  antibiotic_te_resistance_phenotype_not defined                       457155 non-null  float64\n",
      " 40  antibiotic_te_resistance_phenotype_resistant                         457155 non-null  float64\n",
      " 41  antibiotic_te_resistance_phenotype_susceptible                       457155 non-null  float64\n",
      " 42  antibiotic_te_resistance_phenotype_susceptible-dose dependent        457155 non-null  float64\n",
      "dtypes: float64(20), int64(23)\n",
      "memory usage: 150.0 MB\n",
      "None\n"
     ]
    }
   ],
   "source": [
    "print(data.info())"
   ]
  },
  {
   "cell_type": "code",
   "execution_count": 27,
   "metadata": {},
   "outputs": [],
   "source": [
    "# write the data to a csv file\n",
    "\n",
    "data.to_csv(f\"../data/processed/asts.csv\", index=False)"
   ]
  },
  {
   "cell_type": "code",
   "execution_count": null,
   "metadata": {},
   "outputs": [],
   "source": []
  }
 ],
 "metadata": {
  "kernelspec": {
   "display_name": ".venv",
   "language": "python",
   "name": "python3"
  },
  "language_info": {
   "codemirror_mode": {
    "name": "ipython",
    "version": 3
   },
   "file_extension": ".py",
   "mimetype": "text/x-python",
   "name": "python",
   "nbconvert_exporter": "python",
   "pygments_lexer": "ipython3",
   "version": "3.13.1"
  }
 },
 "nbformat": 4,
 "nbformat_minor": 2
}
